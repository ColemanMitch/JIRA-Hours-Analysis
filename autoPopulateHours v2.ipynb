{
 "cells": [
  {
   "cell_type": "code",
   "execution_count": 1,
   "metadata": {},
   "outputs": [
    {
     "name": "stderr",
     "output_type": "stream",
     "text": [
      "C:\\Users\\colmitchell\\AppData\\Local\\Continuum\\anaconda3\\lib\\site-packages\\ipykernel\\parentpoller.py:116: UserWarning: Parent poll failed.  If the frontend dies,\n",
      "                the kernel may be left running.  Please let us know\n",
      "                about your system (bitness, Python, etc.) at\n",
      "                ipython-dev@scipy.org\n",
      "  ipython-dev@scipy.org\"\"\")\n"
     ]
    }
   ],
   "source": [
    "import win32com.client\n",
    "from win32com.client import Dispatch\n",
    "import datetime as date\n",
    "import os.path\n",
    "import csv, openpyxl\n",
    "from openpyxl import load_workbook\n",
    "import xlsxwriter\n",
    "import pandas as pd\n",
    "from pandas import DataFrame\n",
    "import pyautogui as pya\n",
    "import time"
   ]
  },
  {
   "cell_type": "code",
   "execution_count": 3,
   "metadata": {},
   "outputs": [],
   "source": [
    "# Helper functions\n",
    "\n",
    "\n",
    "# (\"FW: Worklog Reports for Enhancement Requests\", \"ER_######_report.csv\")\n",
    "def download_attach(number):\n",
    "    subject = \"FW: Worklog Reports for Enhancement Requests\" # email subject line that gets auto-forwarded to me\n",
    "    outlook = win32com.client.Dispatch(\"Outlook.Application\").GetNamespace(\"MAPI\")\n",
    "    inbox = outlook.GetDefaultFolder(6)\n",
    "\n",
    "    name = \"ER_\" + str(number) + \"_report.csv\"\n",
    "    \n",
    "    messages = inbox.Items\n",
    "    messages.Sort(\"[ReceivedTime]\", True) # sorts the inbox from most recent to oldest\n",
    "    todays_date = date.date.today()\n",
    "    sub_today = subject\n",
    "    att_today = name\n",
    "\n",
    "    for msg in messages:\n",
    "        if msg.Subject == sub_today:\n",
    "             break\n",
    "    for att in msg.Attachments:\n",
    "        if att.FileName == att_today:\n",
    "             break\n",
    "    att.SaveASFile(os.getcwd() + '\\\\' + att.FileName)\n",
    "    print(\"Mail Successfully Extracted\")\n",
    "    \n",
    "\n",
    "def transfer_hours(report_name, ER_hours_analysis_wb):\n",
    "\n",
    "    df = pd.read_csv(report_name)\n",
    "    #df = pd.DataFrame(df.values)\n",
    "    df.set_index(\"Jira Item\", inplace=True)\n",
    "   # print(df[\"Start Date\"])\n",
    "\n",
    "    book = load_workbook(ER_hours_analysis_wb, read_only=False, data_only=False)\n",
    "  \n",
    "\n",
    "    sheet_name = \"ER Work Log\"\n",
    "    with pd.ExcelWriter(\"test.xlsx\", engine='openpyxl')  as writer:\n",
    "\n",
    "        writer.book = book\n",
    "        writer.sheets = dict((ws.title, ws) for ws in book.worksheets)\n",
    "\n",
    "        df.to_excel(writer, sheet_name=sheet_name, startrow=1, startcol=0, engine='openpyxl')\n",
    "        \n",
    "        wb = load_workbook(ER_hours_analysis_wb)\n",
    "        ws = wb[\"ER Work Log\"] \n",
    "        "
   ]
  },
  {
   "cell_type": "code",
   "execution_count": 4,
   "metadata": {},
   "outputs": [
    {
     "name": "stdout",
     "output_type": "stream",
     "text": [
      "Mail Successfully Extracted\n"
     ]
    }
   ],
   "source": [
    "download_attach(192695)"
   ]
  },
  {
   "cell_type": "code",
   "execution_count": 2,
   "metadata": {},
   "outputs": [],
   "source": [
    "def analyze_ER_Hours(number):\n",
    "    subject = \"FW: Worklog Reports for Enhancement Requests\" # email subject line that gets auto-forwarded to me\n",
    "    outlook = win32com.client.Dispatch(\"Outlook.Application\").GetNamespace(\"MAPI\")\n",
    "    inbox = outlook.GetDefaultFolder(6)\n",
    "\n",
    "    report_name = \"ER_\" + str(number) + \"_report.csv\"\n",
    "    \n",
    "    messages = inbox.Items\n",
    "    messages.Sort(\"[ReceivedTime]\", True) # sorts the inbox from most recent to oldest\n",
    "    todays_date = date.date.today()\n",
    "    sub_today = subject\n",
    "    att_today = report_name\n",
    "\n",
    "    for msg in messages:\n",
    "        if msg.Subject == sub_today:\n",
    "             break\n",
    "    for att in msg.Attachments:\n",
    "        if att.FileName == att_today:\n",
    "             break\n",
    "    att.SaveASFile(os.getcwd() + '\\\\' + att.FileName)\n",
    "    print(\"Mail Successfully Extracted\")\n",
    "    \n",
    "\n",
    "    ER_hours_analysis_wb = \"ER Hours Analysis \" + str(number) + \".xlsx\"\n",
    "\n",
    "    df = pd.read_csv(report_name)\n",
    "    df.set_index(\"Jira Item\", inplace=True)\n",
    "\n",
    "    book = load_workbook(ER_hours_analysis_wb, read_only=False, data_only=False)\n",
    "  \n",
    "\n",
    "    sheet_name = \"ER Work Log\"\n",
    "    with pd.ExcelWriter(\"Hours_Analysis_\" + str(number) + \".xlsx\", engine='openpyxl')  as writer:\n",
    "\n",
    "        writer.book = book\n",
    "        writer.sheets = dict((ws.title, ws) for ws in book.worksheets)\n",
    "\n",
    "        df.to_excel(writer, sheet_name=sheet_name, startrow=1, startcol=0, engine='openpyxl')\n",
    "        \n",
    "        wb = load_workbook(ER_hours_analysis_wb)\n",
    "        ws = wb[\"ER Work Log\"] \n",
    "        "
   ]
  },
  {
   "cell_type": "code",
   "execution_count": null,
   "metadata": {},
   "outputs": [],
   "source": []
  },
  {
   "cell_type": "code",
   "execution_count": 67,
   "metadata": {},
   "outputs": [
    {
     "name": "stdout",
     "output_type": "stream",
     "text": [
      "Mail Successfully Extracted\n"
     ]
    }
   ],
   "source": [
    "#analyze_ER_Hours(192695)\n",
    "analyze_ER_Hours(248112)"
   ]
  },
  {
   "cell_type": "code",
   "execution_count": 95,
   "metadata": {},
   "outputs": [
    {
     "ename": "ValueError",
     "evalue": "time data '09/21/18 23:49:00' does not match format '%Y-%m-%d %H:%M:%S'",
     "output_type": "error",
     "traceback": [
      "\u001b[1;31m---------------------------------------------------------------------------\u001b[0m",
      "\u001b[1;31mValueError\u001b[0m                                Traceback (most recent call last)",
      "\u001b[1;32m<ipython-input-95-a5318f243e01>\u001b[0m in \u001b[0;36m<module>\u001b[1;34m()\u001b[0m\n\u001b[0;32m      4\u001b[0m \u001b[0mline\u001b[0m\u001b[1;33m=\u001b[0m\u001b[0mdf\u001b[0m\u001b[1;33m[\u001b[0m\u001b[1;34m\"Start Date\"\u001b[0m\u001b[1;33m]\u001b[0m\u001b[1;33m.\u001b[0m\u001b[0mvalues\u001b[0m\u001b[1;33m[\u001b[0m\u001b[1;36m0\u001b[0m\u001b[1;33m]\u001b[0m\u001b[1;33m\u001b[0m\u001b[0m\n\u001b[0;32m      5\u001b[0m \u001b[1;31m#line\u001b[0m\u001b[1;33m\u001b[0m\u001b[1;33m\u001b[0m\u001b[0m\n\u001b[1;32m----> 6\u001b[1;33m \u001b[0mdate\u001b[0m\u001b[1;33m.\u001b[0m\u001b[0mdatetime\u001b[0m\u001b[1;33m.\u001b[0m\u001b[0mstrptime\u001b[0m\u001b[1;33m(\u001b[0m\u001b[0mline\u001b[0m\u001b[1;33m,\u001b[0m \u001b[1;34m'%Y-%m-%d %H:%M:%S'\u001b[0m\u001b[1;33m)\u001b[0m\u001b[1;33m.\u001b[0m\u001b[0mstrftime\u001b[0m\u001b[1;33m(\u001b[0m\u001b[1;34m'%m/%d/%y %H:%M:%S'\u001b[0m\u001b[1;33m)\u001b[0m\u001b[1;33m\u001b[0m\u001b[0m\n\u001b[0m\u001b[0;32m      7\u001b[0m \u001b[1;33m\u001b[0m\u001b[0m\n\u001b[0;32m      8\u001b[0m \u001b[1;31m# df.to_csv('TestBook1.csv') This will save it\u001b[0m\u001b[1;33m\u001b[0m\u001b[1;33m\u001b[0m\u001b[0m\n",
      "\u001b[1;32m~\\AppData\\Local\\Continuum\\anaconda3\\lib\\_strptime.py\u001b[0m in \u001b[0;36m_strptime_datetime\u001b[1;34m(cls, data_string, format)\u001b[0m\n\u001b[0;32m    575\u001b[0m     \"\"\"Return a class cls instance based on the input string and the\n\u001b[0;32m    576\u001b[0m     format string.\"\"\"\n\u001b[1;32m--> 577\u001b[1;33m     \u001b[0mtt\u001b[0m\u001b[1;33m,\u001b[0m \u001b[0mfraction\u001b[0m\u001b[1;33m,\u001b[0m \u001b[0mgmtoff_fraction\u001b[0m \u001b[1;33m=\u001b[0m \u001b[0m_strptime\u001b[0m\u001b[1;33m(\u001b[0m\u001b[0mdata_string\u001b[0m\u001b[1;33m,\u001b[0m \u001b[0mformat\u001b[0m\u001b[1;33m)\u001b[0m\u001b[1;33m\u001b[0m\u001b[0m\n\u001b[0m\u001b[0;32m    578\u001b[0m     \u001b[0mtzname\u001b[0m\u001b[1;33m,\u001b[0m \u001b[0mgmtoff\u001b[0m \u001b[1;33m=\u001b[0m \u001b[0mtt\u001b[0m\u001b[1;33m[\u001b[0m\u001b[1;33m-\u001b[0m\u001b[1;36m2\u001b[0m\u001b[1;33m:\u001b[0m\u001b[1;33m]\u001b[0m\u001b[1;33m\u001b[0m\u001b[0m\n\u001b[0;32m    579\u001b[0m     \u001b[0margs\u001b[0m \u001b[1;33m=\u001b[0m \u001b[0mtt\u001b[0m\u001b[1;33m[\u001b[0m\u001b[1;33m:\u001b[0m\u001b[1;36m6\u001b[0m\u001b[1;33m]\u001b[0m \u001b[1;33m+\u001b[0m \u001b[1;33m(\u001b[0m\u001b[0mfraction\u001b[0m\u001b[1;33m,\u001b[0m\u001b[1;33m)\u001b[0m\u001b[1;33m\u001b[0m\u001b[0m\n",
      "\u001b[1;32m~\\AppData\\Local\\Continuum\\anaconda3\\lib\\_strptime.py\u001b[0m in \u001b[0;36m_strptime\u001b[1;34m(data_string, format)\u001b[0m\n\u001b[0;32m    357\u001b[0m     \u001b[1;32mif\u001b[0m \u001b[1;32mnot\u001b[0m \u001b[0mfound\u001b[0m\u001b[1;33m:\u001b[0m\u001b[1;33m\u001b[0m\u001b[0m\n\u001b[0;32m    358\u001b[0m         raise ValueError(\"time data %r does not match format %r\" %\n\u001b[1;32m--> 359\u001b[1;33m                          (data_string, format))\n\u001b[0m\u001b[0;32m    360\u001b[0m     \u001b[1;32mif\u001b[0m \u001b[0mlen\u001b[0m\u001b[1;33m(\u001b[0m\u001b[0mdata_string\u001b[0m\u001b[1;33m)\u001b[0m \u001b[1;33m!=\u001b[0m \u001b[0mfound\u001b[0m\u001b[1;33m.\u001b[0m\u001b[0mend\u001b[0m\u001b[1;33m(\u001b[0m\u001b[1;33m)\u001b[0m\u001b[1;33m:\u001b[0m\u001b[1;33m\u001b[0m\u001b[0m\n\u001b[0;32m    361\u001b[0m         raise ValueError(\"unconverted data remains: %s\" %\n",
      "\u001b[1;31mValueError\u001b[0m: time data '09/21/18 23:49:00' does not match format '%Y-%m-%d %H:%M:%S'"
     ]
    }
   ],
   "source": [
    "import datetime \n",
    "\n",
    "df = pd.read_csv(\"ER_248112_Report.csv\")\n",
    "line=df[\"Start Date\"].values[0]\n",
    "#line\n",
    "date.datetime.strptime(line, '%Y-%m-%d %H:%M:%S').strftime('%m/%d/%y %H:%M:%S')\n",
    "\n",
    "# df.to_csv('TestBook1.csv') This will save it"
   ]
  },
  {
   "cell_type": "code",
   "execution_count": 94,
   "metadata": {},
   "outputs": [],
   "source": [
    "import datetime \n",
    "\n",
    "df = pd.read_csv(\"ER_248112_Report.csv\")\n",
    "df2 = df\n",
    "for i in range(len(df[\"Start Date\"])):\n",
    "    d=df[\"Start Date\"].values[i]\n",
    "    df2[\"Start Date\"].values[i] = date.datetime.strptime(d, '%Y-%m-%d %H:%M:%S').strftime('%m/%d/%y %H:%M:%S')\n",
    "\n",
    "df2.to_csv('ER_248112_Report.csv', index=False)"
   ]
  },
  {
   "cell_type": "code",
   "execution_count": 3,
   "metadata": {},
   "outputs": [],
   "source": [
    "def analyze_ER_Hours(number):\n",
    "    subject = \"FW: Worklog Reports for Enhancement Requests\" # email subject line that gets auto-forwarded to me\n",
    "    outlook = win32com.client.Dispatch(\"Outlook.Application\").GetNamespace(\"MAPI\")\n",
    "    inbox = outlook.GetDefaultFolder(6)\n",
    "\n",
    "    report_name = \"ER_\" + str(number) + \"_report.csv\"\n",
    "    \n",
    "    messages = inbox.Items\n",
    "    messages.Sort(\"[ReceivedTime]\", True) # sorts the inbox from most recent to oldest\n",
    "    todays_date = date.date.today()\n",
    "    sub_today = subject\n",
    "    att_today = report_name\n",
    "\n",
    "    for msg in messages:\n",
    "        if msg.Subject == sub_today:\n",
    "             break\n",
    "    for att in msg.Attachments:\n",
    "        if att.FileName == att_today:\n",
    "             break\n",
    "    att.SaveASFile(os.getcwd() + '\\\\' + att.FileName)\n",
    "    print(\"Mail Successfully Extracted\")\n",
    "    \n",
    "\n",
    "    ER_hours_analysis_wb = \"ER Hours Analysis \" + str(number) + \".xlsx\"\n",
    "\n",
    "    df = pd.read_csv(\"ER_\"+str(number)+\"_Report.csv\")\n",
    "    df2 = df\n",
    "    for i in range(len(df[\"Start Date\"])):\n",
    "        d=df[\"Start Date\"].values[i]\n",
    "        df2[\"Start Date\"].values[i] = date.datetime.strptime(d, '%Y-%m-%d %H:%M:%S').strftime('%m/%#d/%#Y')\n",
    "\n",
    "    df2.set_index(\"Jira Item\", inplace=True)\n",
    "    df2.to_csv(\"ER_\"+str(number)+\"_Report.csv\", index=False)\n",
    "    \n",
    "    book = load_workbook(ER_hours_analysis_wb, read_only=False, data_only=False)\n",
    "  \n",
    "\n",
    "    sheet_name = \"ER Work Log\"\n",
    "    with pd.ExcelWriter(\"Hours_Analysis_\" + str(number) + \".xlsx\", engine='openpyxl')  as writer:\n",
    "\n",
    "        writer.book = book\n",
    "        writer.sheets = dict((ws.title, ws) for ws in book.worksheets)\n",
    "\n",
    "        df2.to_excel(writer, sheet_name=sheet_name, startrow=1, startcol=0, engine='openpyxl')\n",
    "        \n",
    "        wb = load_workbook(ER_hours_analysis_wb)\n",
    "        ws = wb[\"ER Work Log\"]  \n",
    "       \n",
    "    file = \"Hours_Analysis_\"+str(number)+\".xlsx\"\n",
    "    f = os.startfile(file)  \n",
    "    time.sleep(10)\n",
    "    #pya.FAILSAFE = False\n",
    "    #pya.PAUSE = 10 # give Excel 10 sec to open \n",
    "    #pya.press('down')\n",
    "    pya.hotkey('ctrl', 'pagedown')\n",
    "    #pya.PAUSE = 0.2\n",
    "    pya.hotkey('ctrl', 'shift', 'down')\n",
    "    pya.hotkey('alt', 'a', 'e')\n",
    "    pya.press(['tab', 'tab', 'tab'])\n",
    "    pya.press('enter')\n",
    "    pya.hotkey('alt', 'h', 'n')\n",
    "    pya.press(['s','h','enter'])\n",
    "    pya.hotkey('ctrl', 's')       \n",
    "        "
   ]
  },
  {
   "cell_type": "code",
   "execution_count": 55,
   "metadata": {},
   "outputs": [
    {
     "name": "stdout",
     "output_type": "stream",
     "text": [
      "Mail Successfully Extracted\n"
     ]
    }
   ],
   "source": [
    "analyze_ER_Hours(248112)"
   ]
  },
  {
   "cell_type": "code",
   "execution_count": 31,
   "metadata": {},
   "outputs": [
    {
     "name": "stdout",
     "output_type": "stream",
     "text": [
      "Mail Successfully Extracted\n"
     ]
    }
   ],
   "source": [
    "analyze_ER_Hours(192695)"
   ]
  },
  {
   "cell_type": "code",
   "execution_count": 161,
   "metadata": {},
   "outputs": [],
   "source": []
  },
  {
   "cell_type": "code",
   "execution_count": 3,
   "metadata": {},
   "outputs": [
    {
     "name": "stdout",
     "output_type": "stream",
     "text": [
      "Mail Successfully Extracted\n",
      "Mail Successfully Extracted\n",
      "Mail Successfully Extracted\n",
      "Mail Successfully Extracted\n"
     ]
    }
   ],
   "source": [
    "ER_ticket_numbers = [192695, 248112, 213686, 247988]\n",
    "\n",
    "for i in range(len(ER_ticket_numbers)):\n",
    "    analyze_ER_Hours(ER_ticket_numbers[i])"
   ]
  },
  {
   "cell_type": "code",
   "execution_count": 199,
   "metadata": {},
   "outputs": [
    {
     "name": "stdout",
     "output_type": "stream",
     "text": [
      "Mail Successfully Extracted\n"
     ]
    }
   ],
   "source": [
    "analyze_ER_Hours(247988)"
   ]
  },
  {
   "cell_type": "code",
   "execution_count": 8,
   "metadata": {},
   "outputs": [
    {
     "name": "stdout",
     "output_type": "stream",
     "text": [
      "Mail Successfully Extracted\n"
     ]
    }
   ],
   "source": [
    "analyze_ER_Hours(219427)"
   ]
  },
  {
   "cell_type": "code",
   "execution_count": 4,
   "metadata": {},
   "outputs": [
    {
     "name": "stdout",
     "output_type": "stream",
     "text": [
      "Mail Successfully Extracted\n"
     ]
    }
   ],
   "source": [
    "analyze_ER_Hours(228036)"
   ]
  },
  {
   "cell_type": "code",
   "execution_count": 12,
   "metadata": {},
   "outputs": [
    {
     "name": "stdout",
     "output_type": "stream",
     "text": [
      "Mail Successfully Extracted\n",
      "Mail Successfully Extracted\n",
      "Mail Successfully Extracted\n",
      "Mail Successfully Extracted\n",
      "Mail Successfully Extracted\n",
      "Mail Successfully Extracted\n"
     ]
    }
   ],
   "source": [
    "ER_ticket_numbers = [192695, 248112, 213686, 247988, 219427, 228036]\n",
    "\n",
    "for i in range(len(ER_ticket_numbers)):\n",
    "    analyze_ER_Hours(ER_ticket_numbers[i])"
   ]
  }
 ],
 "metadata": {
  "kernelspec": {
   "display_name": "Python 3",
   "language": "python",
   "name": "python3"
  },
  "language_info": {
   "codemirror_mode": {
    "name": "ipython",
    "version": 3
   },
   "file_extension": ".py",
   "mimetype": "text/x-python",
   "name": "python",
   "nbconvert_exporter": "python",
   "pygments_lexer": "ipython3",
   "version": "3.7.0"
  }
 },
 "nbformat": 4,
 "nbformat_minor": 2
}
